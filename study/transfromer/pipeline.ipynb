{
 "cells": [
  {
   "cell_type": "markdown",
   "metadata": {},
   "source": [
    "pipeline:数据预处理，模型调用，结果后处理组成的流水线，方便，可以使我们直接拿结果\n",
    "\n",
    "支持文本分类，问答，情感，文本生成等等"
   ]
  },
  {
   "cell_type": "code",
   "execution_count": null,
   "metadata": {},
   "outputs": [],
   "source": [
    "#pipeline 创建与使用方式\n",
    "\n",
    "#根据任务类型直接创建\n",
    "pipe=pipeline('text-classification')\n",
    "#使用 情感\n",
    "pipe('good')\n",
    "\n",
    "#指定任务类型，指定模型创建\n",
    "pipe=pipeline('text-classification',model='模型名称')\n",
    "\n",
    "#先加载模型，再创建 pipeline\n",
    "model= AutoModelForSequenceClassification.frompretrained('模型名称')\n",
    "#分词器\n",
    "token=AutoTokenizer.from_pretrained('分词')"
   ]
  }
 ],
 "metadata": {
  "kernelspec": {
   "display_name": "myocr",
   "language": "python",
   "name": "python3"
  },
  "language_info": {
   "name": "python",
   "version": "3.8.17"
  },
  "orig_nbformat": 4
 },
 "nbformat": 4,
 "nbformat_minor": 2
}
